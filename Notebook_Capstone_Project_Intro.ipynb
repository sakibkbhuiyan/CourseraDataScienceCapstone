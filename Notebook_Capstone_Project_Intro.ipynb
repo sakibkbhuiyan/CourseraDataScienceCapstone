{
 "cells": [
  {
   "cell_type": "markdown",
   "id": "59e1ca67-c66e-49a8-88c3-4af1a29b28de",
   "metadata": {},
   "source": [
    "# Grocery Store Scarcity in Charlotte, North Carolina"
   ]
  },
  {
   "cell_type": "markdown",
   "id": "274f6477-6ed4-4593-88aa-19e6e44674ca",
   "metadata": {},
   "source": [
    "## Introduction <a name=\"introduction\"></a>\n",
    "\n",
    "Food deserts are geographic areas where access to affordable, healthy food options is limited because grocery stores are too far away. According to the United States Department of Agriculture, 23.5 million Americans live in food deserts, and nearly half of them are also low-income. This limited access to grocery stores can lead to several long-term issues. Many people living in food deserts get meals from fast-food restaurants. Furthermore, food insecurity has a high correlation with increased diabetes rates. [5].  The lack of access to healthful foods can also contribute to other diet-related conditions, such as high blood pressure and cardiovascular disease [3]. \n",
    "\n",
    "The presence of food deserts has become both a public health and political issue in my hometown of Charlotte, North Carolina [2]. Food deserts are more prevalent among minority communities, and the detrimental consequences are exacerbated by a lack of transportation. \n",
    "\n",
    "In this project, we will attempt to **better understand which areas in Charlotte have limited access to grocery stores**. We will **use location data from the Foursquare Places API** to visualize the presence of grocery stores on maps. We will also use visualizations to **understand which areas in Charlotte could most benefit from new grocery store openings**. These results can be used by city planners and grocery store chains to prioritize grocery store openings in a way that **makes healthy food options accessible** to more (and, hopefully, all) Charlotteans. "
   ]
  },
  {
   "cell_type": "markdown",
   "id": "dc839d75-8a64-4d78-be9b-fe0194befc42",
   "metadata": {},
   "source": [
    "## Data <a name=\"data\"></a>\n",
    "\n",
    "Based on our project goals, we are interested in acquiring the following data. The source of the data is provided in parentheses:  \n",
    "\n",
    "* Regions in Charlotte, NC. We decided to define regions by their ZIP code. (Map of Charlotte, NC) \n",
    "* Population data for Charlotte ZIP codes (worldpopulationreview.com)\n",
    "* Grocery stores that are within a specified radius of each Charlotte ZIP code (**Foursquare Places API**) \n",
    "* Location data for each ZIP code in Charlotte and each grocery store (**geopy** geocoding services and **Foursquare Places API**) \n",
    "\n",
    "A description of the final data frame and features are provided in the below table: \n",
    "\n",
    "| Feature                       | Type   | Description                                                                                                                         |\n",
    "| :-                            | :-     | :-          |\n",
    "ZIP Code                        | string | Each of the ZIP codes within the Charlotte city limit. |\n",
    "Latitude                        | float  | Latitude coordinate for each location. |\n",
    "Longitude                       | float  | Longitude coordinate for each location. |\n",
    "Population                      | int    | Count of residents within each ZIP code. |\n",
    "Venue Count                     | int    | Count of grocery stores within a specified radius of the ZIP code center. |\n",
    "Venue Scarcity                  | float  | Calculated field that indicates “For every *x* number of people, there is *1* grocery store. |\n",
    "Grocery Store Relative Scarcity | float  | Max absolute scale of `Grocery Store Scarcity`. Each `Grocery Store Scarcity` value is divided by the maximum value. Range is 0.0 to 1.0. | \n",
    "\n"
   ]
  },
  {
   "cell_type": "markdown",
   "id": "135b6b8e-fa85-441b-9528-302f3c3efe9c",
   "metadata": {},
   "source": [
    "## References <a name=\"references\"></a>\n",
    "\n",
    "1. Charlotte Zip Code Map: https://www.usmapguide.com/north-carolina/charlotte-zip-code-map/\n",
    "2. Grocery deserts still exist in Charlotte: https://charlotte.axios.com/239626/grocery-deserts-still-exist-in-charlotte-heres-whats-being-done-to-get-help-fix-the-problem/\n",
    "3. What are food deserts, and how do they impact health?: https://www.medicalnewstoday.com/articles/what-are-food-deserts\n",
    "4. World Population Review: https://worldpopulationreview.com/zips/north-carolina\n",
    "5. 11 Facts About Food Deserts: https://www.dosomething.org/us/facts/11-facts-about-food-deserts"
   ]
  }
 ],
 "metadata": {
  "kernelspec": {
   "display_name": "Python",
   "language": "python",
   "name": "conda-env-python-py"
  },
  "language_info": {
   "codemirror_mode": {
    "name": "ipython",
    "version": 3
   },
   "file_extension": ".py",
   "mimetype": "text/x-python",
   "name": "python",
   "nbconvert_exporter": "python",
   "pygments_lexer": "ipython3",
   "version": "3.6.13"
  }
 },
 "nbformat": 4,
 "nbformat_minor": 5
}
